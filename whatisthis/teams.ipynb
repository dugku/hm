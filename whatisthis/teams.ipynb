{
 "cells": [
  {
   "metadata": {
    "ExecuteTime": {
     "end_time": "2024-09-19T18:01:33.485775Z",
     "start_time": "2024-09-19T18:01:33.478340Z"
    }
   },
   "cell_type": "code",
   "source": [
    "import csv\n",
    "import random"
   ],
   "outputs": [],
   "execution_count": 36
  },
  {
   "metadata": {
    "ExecuteTime": {
     "end_time": "2024-09-19T18:01:40.870373Z",
     "start_time": "2024-09-19T18:01:40.856366Z"
    }
   },
   "cell_type": "code",
   "source": [
    "\"\"\"\n",
    "\n",
    "\"\"\"\n",
    "student_email_name = {} #fuck it you become global\n",
    "def readFile(filePath):\n",
    "    #OPEN THIS FILE OOPS\n",
    "    with open(filePath, 'r') as csvfile:\n",
    "        #Reads and skips the header of the file\n",
    "        dataCampData = csv.reader(csvfile, delimiter=',')\n",
    "        next(dataCampData, None)\n",
    "        #For assigning students to their emails\n",
    "        #key values for the win right?\n",
    "        \n",
    "        #gets the line of the csv then assigns the email:name pair\n",
    "        for lines in dataCampData:\n",
    "            email, name = lines[0:2]\n",
    "            \n",
    "            student_email_name[email] = name\n",
    "        #for the team making stuff.\n",
    "        TeamMaker()\n",
    "            "
   ],
   "outputs": [],
   "execution_count": 37
  },
  {
   "metadata": {
    "ExecuteTime": {
     "end_time": "2024-09-19T18:05:43.529345Z",
     "start_time": "2024-09-19T18:05:43.520181Z"
    }
   },
   "cell_type": "code",
   "source": [
    "def TeamMaker():\n",
    "    team_size = 3\n",
    "    \n",
    "    how_many = 23\n",
    "    \n",
    "    all_student = list(student_email_name.keys())\n",
    "    \n",
    "    teams = []\n",
    "    for i in range(how_many):\n",
    "        temp = []\n",
    "        teams.append(temp)\n",
    "        for j in range(team_size):\n",
    "            randint = random.randint(0, len(all_student) - 1)\n",
    "            student = all_student[randint]\n",
    "            temp.append(student)\n",
    "            all_student.remove(student)\n",
    "\n",
    "            \n",
    "    #didn't even know this existed thanks chatgpt\n",
    "    #random.shuffle(all_student)\n",
    "\n",
    "    #teams= [all_student[i * team_size:(i + 1) * team_size] for i in range(how_many)]\n",
    "    \n",
    "    output_csv(teams)"
   ],
   "outputs": [],
   "execution_count": 41
  },
  {
   "metadata": {
    "ExecuteTime": {
     "end_time": "2024-09-19T18:01:47.048313Z",
     "start_time": "2024-09-19T18:01:47.040872Z"
    }
   },
   "cell_type": "code",
   "source": [
    "def output_csv(teams):\n",
    "    with open('final_teams.csv', 'w', newline='') as csvfile:\n",
    "        \n",
    "        columns=[\"member_no\", \"email1\",\"email2\",\"email3\", \"name1\"]\n",
    "        teams[0] = columns\n",
    "        writer = csv.writer(csvfile)\n",
    "        \n",
    "        counter = 1\n",
    "        \n",
    "        writer.writerow(teams[0])\n",
    "        for team in teams[1:]:\n",
    "            name = student_email_name[team[0]]\n",
    "            the_team = [counter, team[0], team[1], team[2], name]\n",
    "            writer.writerow(the_team)\n",
    "            counter+=1"
   ],
   "outputs": [],
   "execution_count": 39
  },
  {
   "metadata": {
    "ExecuteTime": {
     "end_time": "2024-09-19T18:16:48.851382Z",
     "start_time": "2024-09-19T18:16:48.838537Z"
    }
   },
   "cell_type": "code",
   "source": "readFile(\"C:\\\\Users\\\\iphon\\\\PycharmProjects\\\\ExamMichaelPurtle\\\\DataCamp-members-20240913174631.csv\")",
   "outputs": [],
   "execution_count": 43
  }
 ],
 "metadata": {
  "interpreter": {
   "hash": "aee8b7b246df8f9039afb4144a1f6fd8d2ca17a180786b69acc140d282b71a49"
  },
  "kernelspec": {
   "display_name": "Python 3 (ipykernel)",
   "name": "python3",
   "language": "python"
  },
  "language_info": {
   "codemirror_mode": {
    "name": "ipython",
    "version": 3
   },
   "file_extension": ".py",
   "mimetype": "text/x-python",
   "name": "python",
   "nbconvert_exporter": "python",
   "pygments_lexer": "ipython3",
   "version": "3.10.13"
  },
  "orig_nbformat": 4
 },
 "nbformat": 4,
 "nbformat_minor": 2
}
